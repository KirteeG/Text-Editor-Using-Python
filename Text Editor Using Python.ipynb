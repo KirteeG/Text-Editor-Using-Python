{
 "cells": [
  {
   "cell_type": "markdown",
   "id": "035f3dd2",
   "metadata": {},
   "source": [
    "#                                         Text Editor Using Python"
   ]
  },
  {
   "cell_type": "code",
   "execution_count": 19,
   "id": "36243301",
   "metadata": {},
   "outputs": [],
   "source": [
    "# Import required libraries\n",
    "from tkinter import *\n",
    "\n",
    "# Import additional modules for file dialogs, color chooser, and fonts\n",
    "from tkinter import filedialog, colorchooser, font\n"
   ]
  },
  {
   "cell_type": "code",
   "execution_count": 20,
   "id": "44e0a546",
   "metadata": {},
   "outputs": [
    {
     "data": {
      "text/plain": [
       "''"
      ]
     },
     "execution_count": 20,
     "metadata": {},
     "output_type": "execute_result"
    }
   ],
   "source": [
    "# Create the main window\n",
    "stimulator_window = Tk()\n",
    "\n",
    "# Set the dimensions of the window\n",
    "stimulator_window.geometry('600x600')\n",
    "\n",
    " # Set the title of the window\n",
    "stimulator_window.title('TechVidvan')\n"
   ]
  },
  {
   "cell_type": "code",
   "execution_count": 21,
   "id": "2716ccf6",
   "metadata": {},
   "outputs": [],
   "source": [
    "# Create a text editor widget\n",
    "text_editor = Text(stimulator_window)\n",
    "text_editor.pack(fill=BOTH, expand=True)\n"
   ]
  },
  {
   "cell_type": "code",
   "execution_count": 22,
   "id": "75859f3d",
   "metadata": {},
   "outputs": [],
   "source": [
    "# Function to set the save, copy, cut, paste, set_text_color, set_wrap,set_text_size, set_text_font, exit_editor\n",
    "\n",
    "def save():\n",
    "    file_path = filedialog.asksaveasfilename(defaultextension=\".txt\",\n",
    "                                            filetypes=[(\"Text Files\", \"*.txt\"), (\"All Files\", \"*.*\")])\n",
    "    if file_path:\n",
    "        with open(file_path, \"w\") as file:\n",
    "            text_content = text_editor.get(1.0, END)\n",
    "            file.write(text_content)\n",
    "        stimulator_window.title(f\"Text Editor - {file_path}\")\n",
    "\n",
    "def copy():\n",
    "    if text_editor.tag_ranges(SEL):\n",
    "        text_editor.clipboard_clear()\n",
    "        text_editor.clipboard_append(text_editor.selection_get())\n",
    "\n",
    "def cut():\n",
    "    if text_editor.tag_ranges(SEL):\n",
    "        copy()\n",
    "        text_editor.delete(SEL_FIRST, SEL_LAST)\n",
    "\n",
    "def paste():\n",
    "    try:\n",
    "        text = text_editor.selection_get(selection=\"CLIPBOARD\")\n",
    "        text_editor.insert(INSERT, text)\n",
    "    except tk.TclError:\n",
    "        pass\n",
    "\n",
    "def set_text_color():\n",
    "    color = colorchooser.askcolor()\n",
    "    if color:\n",
    "        text_editor.config(fg=color[1])\n",
    "\n",
    "def set_wrap():\n",
    "    wrap_state = wrap_var.get()\n",
    "    if wrap_state == 0:\n",
    "        text_editor.config(wrap=NONE)\n",
    "    else:\n",
    "        text_editor.config(wrap=WORD)\n",
    "\n",
    "def set_text_size():\n",
    "    selected_size = size_var.get()\n",
    "    current_font = font.Font(font=text_editor['font'])\n",
    "    text_editor.configure(font=(current_font.actual('family'), selected_size))\n",
    "\n",
    "def set_text_font(font_name):\n",
    "    text_editor.configure(font=(font_name, size_var.get()))\n",
    "\n",
    "def exit_editor():\n",
    "    stimulator_window.destroy()\n"
   ]
  },
  {
   "cell_type": "code",
   "execution_count": 23,
   "id": "29c9d280",
   "metadata": {},
   "outputs": [],
   "source": [
    "# Create menu bar\n",
    "menu_bar = Menu(stimulator_window)\n",
    "stimulator_window.config(menu=menu_bar)\n"
   ]
  },
  {
   "cell_type": "code",
   "execution_count": 24,
   "id": "c3e043b9",
   "metadata": {},
   "outputs": [],
   "source": [
    "# Create File menu\n",
    "file_menu = Menu(menu_bar, tearoff=0)\n",
    "file_menu.add_command(label=\"Save\", command=save)\n",
    "file_menu.add_separator()\n",
    "file_menu.add_command(label=\"Exit\", command=exit_editor)\n",
    "menu_bar.add_cascade(label=\"File\", menu=file_menu)\n"
   ]
  },
  {
   "cell_type": "code",
   "execution_count": 25,
   "id": "916e5375",
   "metadata": {},
   "outputs": [],
   "source": [
    "# Create Edit menu\n",
    "edit_menu = Menu(menu_bar, tearoff=0)\n",
    "edit_menu.add_command(label=\"Copy\", command=copy)\n",
    "edit_menu.add_command(label=\"Cut\", command=cut)\n",
    "edit_menu.add_command(label=\"Paste\", command=paste)\n",
    "menu_bar.add_cascade(label=\"Edit\", menu=edit_menu)\n"
   ]
  },
  {
   "cell_type": "code",
   "execution_count": 26,
   "id": "53086054",
   "metadata": {},
   "outputs": [],
   "source": [
    "# Create Format menu\n",
    "format_menu = Menu(menu_bar, tearoff=0)\n",
    "wrap_var = IntVar()\n",
    "format_menu.add_checkbutton(label=\"Wrap Text\", variable=wrap_var, command=set_wrap)\n",
    "format_menu.add_command(label=\"Text Color\", command=set_text_color)\n",
    "\n",
    "size_var = IntVar()\n",
    "size_menu = Menu(format_menu, tearoff=0)\n",
    "for i in range(10, 31):\n",
    "    size_menu.add_radiobutton(label=str(i), variable=size_var, value=i, command=set_text_size)\n",
    "format_menu.add_cascade(label=\"Text Size\", menu=size_menu)\n",
    "\n",
    "font_menu = Menu(format_menu, tearoff=0)\n",
    "font_menu.add_command(label=\"Arial\", command=lambda: set_text_font(\"Arial\"))\n",
    "font_menu.add_command(label=\"Times New Roman\", command=lambda: set_text_font(\"Times New Roman\"))\n",
    "font_menu.add_command(label=\"Courier New\", command=lambda: set_text_font(\"Courier New\"))\n",
    "format_menu.add_cascade(label=\"Text Font\", menu=font_menu)\n",
    "\n",
    "menu_bar.add_cascade(label=\"Format\", menu=format_menu)\n",
    "\n",
    "stimulator_window.mainloop()\n"
   ]
  },
  {
   "cell_type": "code",
   "execution_count": null,
   "id": "f2894b7c",
   "metadata": {},
   "outputs": [],
   "source": []
  },
  {
   "cell_type": "code",
   "execution_count": null,
   "id": "3a222770",
   "metadata": {},
   "outputs": [],
   "source": []
  },
  {
   "cell_type": "code",
   "execution_count": null,
   "id": "a48880af",
   "metadata": {},
   "outputs": [],
   "source": []
  }
 ],
 "metadata": {
  "kernelspec": {
   "display_name": "Python 3",
   "language": "python",
   "name": "python3"
  },
  "language_info": {
   "codemirror_mode": {
    "name": "ipython",
    "version": 3
   },
   "file_extension": ".py",
   "mimetype": "text/x-python",
   "name": "python",
   "nbconvert_exporter": "python",
   "pygments_lexer": "ipython3",
   "version": "3.8.8"
  }
 },
 "nbformat": 4,
 "nbformat_minor": 5
}
